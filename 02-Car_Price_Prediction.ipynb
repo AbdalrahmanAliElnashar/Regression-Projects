{
  "cells": [
    {
      "cell_type": "markdown",
      "metadata": {
        "id": "view-in-github",
        "colab_type": "text"
      },
      "source": [
        "<a href=\"https://colab.research.google.com/github/AbdalrahmanAliElnashar/Regression-Projects/blob/main/02-Car_Price_Prediction.ipynb\" target=\"_parent\"><img src=\"https://colab.research.google.com/assets/colab-badge.svg\" alt=\"Open In Colab\"/></a>"
      ]
    },
    {
      "cell_type": "markdown",
      "id": "7443615f",
      "metadata": {
        "id": "7443615f"
      },
      "source": [
        "# Car Price Prediction\n",
        "This dataset contains information about used cars. This data can be used for a lot of purposes such as price prediction.\n",
        "The columns in the given dataset are as follows:\n",
        "- name\n",
        "- year\n",
        "- selling_price\n",
        "- km_driven\n",
        "- fuel\n",
        "- seller_type\n",
        "- transmission\n",
        "- Owner"
      ]
    },
    {
      "cell_type": "code",
      "execution_count": null,
      "id": "e3d7adc5",
      "metadata": {
        "id": "e3d7adc5"
      },
      "outputs": [],
      "source": [
        "# Load Libraries\n",
        "import numpy as np\n",
        "import pandas as pd\n",
        "import matplotlib.pyplot as plt\n",
        "import seaborn as sns\n",
        "from sklearn.model_selection import train_test_split\n",
        "from sklearn.linear_model import LinearRegression\n",
        "from sklearn.linear_model import LogisticRegression\n",
        "from sklearn.metrics import r2_score, confusion_matrix, mean_squared_error\n",
        "from sklearn.preprocessing import StandardScaler\n",
        "import statsmodels.api as sm\n",
        "from statsmodels.stats.outliers_influence import variance_inflation_factor\n",
        "from sklearn.linear_model import Ridge\n",
        "from sklearn.linear_model import Lasso\n",
        "from sklearn.tree import DecisionTreeRegressor\n",
        "from sklearn import tree\n"
      ]
    },
    {
      "cell_type": "code",
      "execution_count": null,
      "id": "a2880308",
      "metadata": {
        "id": "a2880308"
      },
      "outputs": [],
      "source": [
        "# Access Data\n",
        "data = pd.read_csv('CAR DETAILS FROM CAR DEKHO.csv')"
      ]
    },
    {
      "cell_type": "markdown",
      "id": "0fb0ce3b",
      "metadata": {
        "id": "0fb0ce3b"
      },
      "source": [
        "### Data Exploration"
      ]
    },
    {
      "cell_type": "code",
      "execution_count": null,
      "id": "34c741ab",
      "metadata": {
        "scrolled": false,
        "id": "34c741ab",
        "outputId": "8c072dfe-8597-4986-b5a8-48e5b4a43926"
      },
      "outputs": [
        {
          "name": "stdout",
          "output_type": "stream",
          "text": [
            "Number of Rows:  4340\n",
            "Number of Columns:  8 \n",
            "\n",
            "Columns Names: Index(['name', 'year', 'selling_price', 'km_driven', 'fuel', 'seller_type',\n",
            "       'transmission', 'owner'],\n",
            "      dtype='object') \n",
            "\n",
            "SubSet of Data:\n",
            "                         name  year  selling_price  km_driven    fuel seller_type transmission         owner\n",
            "0             Maruti 800 AC  2007          60000      70000  Petrol  Individual       Manual   First Owner\n",
            "1  Maruti Wagon R LXI Minor  2007         135000      50000  Petrol  Individual       Manual   First Owner\n",
            "2      Hyundai Verna 1.6 SX  2012         600000     100000  Diesel  Individual       Manual   First Owner\n",
            "3    Datsun RediGO T Option  2017         250000      46000  Petrol  Individual       Manual   First Owner\n",
            "4     Honda Amaze VX i-DTEC  2014         450000     141000  Diesel  Individual       Manual  Second Owner \n",
            "\n",
            "Data Information: \n",
            "<class 'pandas.core.frame.DataFrame'>\n",
            "RangeIndex: 4340 entries, 0 to 4339\n",
            "Data columns (total 8 columns):\n",
            " #   Column         Non-Null Count  Dtype \n",
            "---  ------         --------------  ----- \n",
            " 0   name           4340 non-null   object\n",
            " 1   year           4340 non-null   int64 \n",
            " 2   selling_price  4340 non-null   int64 \n",
            " 3   km_driven      4340 non-null   int64 \n",
            " 4   fuel           4340 non-null   object\n",
            " 5   seller_type    4340 non-null   object\n",
            " 6   transmission   4340 non-null   object\n",
            " 7   owner          4340 non-null   object\n",
            "dtypes: int64(3), object(5)\n",
            "memory usage: 271.4+ KB\n",
            "None \n",
            "\n",
            "Data Describe:\n",
            "                year  selling_price      km_driven\n",
            "count  4340.000000   4.340000e+03    4340.000000\n",
            "mean   2013.090783   5.041273e+05   66215.777419\n",
            "std       4.215344   5.785487e+05   46644.102194\n",
            "min    1992.000000   2.000000e+04       1.000000\n",
            "25%    2011.000000   2.087498e+05   35000.000000\n",
            "50%    2014.000000   3.500000e+05   60000.000000\n",
            "75%    2016.000000   6.000000e+05   90000.000000\n",
            "max    2020.000000   8.900000e+06  806599.000000 \n",
            "\n"
          ]
        }
      ],
      "source": [
        "#  Data Exploration\n",
        "print('Number of Rows: ', data.shape[0])\n",
        "print('Number of Columns: ', data.shape[1], '\\n')\n",
        "print('Columns Names:', data.columns, '\\n')\n",
        "print('SubSet of Data:\\n ', data.head().to_string(), '\\n')\n",
        "print('Data Information: '); print(data.info(), '\\n')\n",
        "print('Data Describe:\\n ', data.describe(), '\\n')"
      ]
    },
    {
      "cell_type": "markdown",
      "id": "73a8c031",
      "metadata": {
        "id": "73a8c031"
      },
      "source": [
        "#### Check for duplicates"
      ]
    },
    {
      "cell_type": "code",
      "execution_count": null,
      "id": "79eabcc5",
      "metadata": {
        "id": "79eabcc5",
        "outputId": "0308bfba-6321-4960-e0e2-36f1bbf8df02"
      },
      "outputs": [
        {
          "name": "stdout",
          "output_type": "stream",
          "text": [
            "True\n",
            "Number of duplicated data:  763\n"
          ]
        }
      ],
      "source": [
        "# Check for duplicates\n",
        "print(data.duplicated().any())\n",
        "duplicated = data.duplicated()\n",
        "print('Number of duplicated data: ', duplicated[duplicated == True].size)"
      ]
    },
    {
      "cell_type": "markdown",
      "id": "d7d98563",
      "metadata": {
        "id": "d7d98563"
      },
      "source": [
        "## Categorical Features:\n"
      ]
    },
    {
      "cell_type": "code",
      "execution_count": null,
      "id": "bd173dfe",
      "metadata": {
        "id": "bd173dfe",
        "outputId": "4fe4ffe1-be49-4dfb-f67c-78df5ec0762e"
      },
      "outputs": [
        {
          "name": "stdout",
          "output_type": "stream",
          "text": [
            "Categorical Data: \n",
            "Fuel unique values:  ['Petrol' 'Diesel' 'CNG' 'LPG' 'Electric']\n",
            "Number of unique values:  5\n",
            "Seller type unique values:  ['Individual' 'Dealer' 'Trustmark Dealer']\n",
            "Number of unique values:  3\n",
            "Transmission unique values:  ['Manual' 'Automatic']\n",
            "Number of unique values:  2\n",
            "Owner unique values:  ['First Owner' 'Second Owner' 'Fourth & Above Owner' 'Third Owner'\n",
            " 'Test Drive Car']\n",
            "Number of unique values:  5\n"
          ]
        }
      ],
      "source": [
        "print('Categorical Data: ')\n",
        "print('Fuel unique values: ', data['fuel'].unique())\n",
        "print('Number of unique values: ', data['fuel'].unique().size)\n",
        "print('Seller type unique values: ', data['seller_type'].unique())\n",
        "print('Number of unique values: ', data['seller_type'].unique().size)\n",
        "print('Transmission unique values: ', data['transmission'].unique())\n",
        "print('Number of unique values: ', data['transmission'].unique().size)\n",
        "print('Owner unique values: ', data['owner'].unique())\n",
        "print('Number of unique values: ', data['owner'].unique().size)"
      ]
    },
    {
      "cell_type": "code",
      "execution_count": null,
      "id": "5b51c513",
      "metadata": {
        "id": "5b51c513",
        "outputId": "1440540d-b487-4bc5-fbee-526130926c85"
      },
      "outputs": [
        {
          "name": "stdout",
          "output_type": "stream",
          "text": [
            "Unique name of Cars:  1491\n"
          ]
        }
      ],
      "source": [
        "# Unique name cars\n",
        "print('Unique name of Cars: ', data['name'].unique().size)"
      ]
    },
    {
      "cell_type": "code",
      "execution_count": null,
      "id": "f8f903e8",
      "metadata": {
        "id": "f8f903e8",
        "outputId": "478e98ac-fe20-4996-882e-4e7227df63dc"
      },
      "outputs": [
        {
          "name": "stdout",
          "output_type": "stream",
          "text": [
            "Data After Splitting car Name\n",
            "                       name  year  selling_price  km_driven    fuel seller_type transmission         owner car_maker car_model\n",
            "0             Maruti 800 AC  2007          60000      70000  Petrol  Individual       Manual   First Owner    Maruti       800\n",
            "1  Maruti Wagon R LXI Minor  2007         135000      50000  Petrol  Individual       Manual   First Owner    Maruti     Wagon\n",
            "2      Hyundai Verna 1.6 SX  2012         600000     100000  Diesel  Individual       Manual   First Owner   Hyundai     Verna\n",
            "3    Datsun RediGO T Option  2017         250000      46000  Petrol  Individual       Manual   First Owner    Datsun    RediGO\n",
            "4     Honda Amaze VX i-DTEC  2014         450000     141000  Diesel  Individual       Manual  Second Owner     Honda     Amaze\n"
          ]
        }
      ],
      "source": [
        "# name splitting\n",
        "name = data['name'].str.split(' ', expand=True)\n",
        "data['car_maker'] = name[0]\n",
        "data['car_model'] = name[1]\n",
        "print('Data After Splitting car Name')\n",
        "print(data.head().to_string())"
      ]
    },
    {
      "cell_type": "markdown",
      "id": "21e99c0a",
      "metadata": {
        "id": "21e99c0a"
      },
      "source": [
        "## Explore Categorical Features"
      ]
    },
    {
      "cell_type": "code",
      "execution_count": null,
      "id": "cfd8a802",
      "metadata": {
        "id": "cfd8a802",
        "outputId": "c03ef363-b4af-4e0e-a28a-43729fcdcc53"
      },
      "outputs": [
        {
          "data": {
            "image/png": "[encoded data removed]",
            "text/plain": [
              "<Figure size 720x288 with 2 Axes>"
            ]
          },
          "metadata": {
            "needs_background": "light"
          },
          "output_type": "display_data"
        },
        {
          "data": {
            "image/png": "[encoded data removed]",
            "text/plain": [
              "<Figure size 720x288 with 2 Axes>"
            ]
          },
          "metadata": {
            "needs_background": "light"
          },
          "output_type": "display_data"
        }
      ],
      "source": [
        "# Figure to intercept categorical Features\n",
        "cat_cols = ['fuel', 'seller_type', 'transmission', 'owner']\n",
        "i = 0\n",
        "while i < 4:\n",
        "    fig = plt.figure(figsize=[10, 4])\n",
        "\n",
        "    plt.subplot(1, 2, 1)\n",
        "    sns.countplot(x=cat_cols[i], data=data)\n",
        "    i += 1\n",
        "\n",
        "    plt.subplot(1, 2, 2)\n",
        "    sns.countplot(x=cat_cols[i], data=data)\n",
        "    i += 1\n",
        "\n",
        "    plt.show()"
      ]
    },
    {
      "cell_type": "markdown",
      "id": "50f6d5dc",
      "metadata": {
        "id": "50f6d5dc"
      },
      "source": [
        "## Data Pre-Processing\n",
        "Replacement "
      ]
    },
    {
      "cell_type": "code",
      "execution_count": null,
      "id": "5416b297",
      "metadata": {
        "id": "5416b297",
        "outputId": "49ea59bf-7e96-43c3-fdb6-b08fd6a0d543"
      },
      "outputs": [
        {
          "name": "stdout",
          "output_type": "stream",
          "text": [
            "**********************************************************************************\n",
            "Data Types after Replacement:\n",
            "  name             object\n",
            "year              int64\n",
            "selling_price     int64\n",
            "km_driven         int64\n",
            "fuel              int64\n",
            "seller_type       int64\n",
            "transmission      int64\n",
            "owner             int64\n",
            "car_maker        object\n",
            "car_model        object\n",
            "dtype: object\n",
            "                       name  year  selling_price  km_driven  fuel  seller_type  transmission  owner car_maker car_model\n",
            "0             Maruti 800 AC    13          60000      70000     1            1             0      1    Maruti       800\n",
            "1  Maruti Wagon R LXI Minor    13         135000      50000     1            1             0      1    Maruti     Wagon\n",
            "2      Hyundai Verna 1.6 SX     8         600000     100000     2            1             0      1   Hyundai     Verna\n",
            "3    Datsun RediGO T Option     3         250000      46000     1            1             0      1    Datsun    RediGO\n",
            "4     Honda Amaze VX i-DTEC     6         450000     141000     2            1             0      2     Honda     Amaze\n"
          ]
        }
      ],
      "source": [
        "data['fuel'].replace(['Petrol', 'Diesel', 'LPG', 'CNG', 'Electric'], [1, 2, 3, 4, 5], inplace=True)\n",
        "data['seller_type'].replace(['Individual', 'Dealer', 'Trustmark Dealer'], [1, 2, 3], inplace=True)\n",
        "data['transmission'].replace(['Manual', 'Automatic'], [0, 1], inplace=True)\n",
        "data['owner'].replace(['First Owner', 'Second Owner', 'Third Owner', 'Fourth & Above Owner', 'Test Drive Car'],\n",
        "                      [1, 2, 3, 4, 0], inplace=True)\n",
        "data['year'] = 2020 - data['year']\n",
        "print('**********************************************************************************')\n",
        "print('Data Types after Replacement:\\n ', data.dtypes)\n",
        "print(data.head().to_string())"
      ]
    },
    {
      "cell_type": "markdown",
      "id": "b0b8c927",
      "metadata": {
        "id": "b0b8c927"
      },
      "source": [
        "### Check correlation"
      ]
    },
    {
      "cell_type": "code",
      "execution_count": null,
      "id": "e16f4fab",
      "metadata": {
        "id": "e16f4fab",
        "outputId": "a16803b3-4bdc-4362-ec9b-8f60d1cd0a05"
      },
      "outputs": [
        {
          "name": "stdout",
          "output_type": "stream",
          "text": [
            "Correlation\n",
            "selling_price    1.000000\n",
            "transmission     0.530205\n",
            "seller_type      0.240666\n",
            "fuel             0.220359\n",
            "km_driven       -0.192289\n",
            "owner           -0.228091\n",
            "year            -0.413922\n",
            "Name: selling_price, dtype: float64\n"
          ]
        },
        {
          "data": {
            "image/png": "[encoded data removed]",
            "text/plain": [
              "<Figure size 432x288 with 2 Axes>"
            ]
          },
          "metadata": {
            "needs_background": "light"
          },
          "output_type": "display_data"
        }
      ],
      "source": [
        "# Check correlation\n",
        "print('Correlation')\n",
        "print(data.corr()['selling_price'].sort_values(ascending=False))\n",
        "sns.heatmap(data.corr(), annot=True, cmap=\"RdBu\")\n",
        "plt.show()"
      ]
    },
    {
      "cell_type": "markdown",
      "id": "d751d2e4",
      "metadata": {
        "id": "d751d2e4"
      },
      "source": [
        "###  \n",
        "- Selling price and 'transmission' are highly correlated\n",
        "- Selling price and 'year' are highly correlated\n",
        "- 'km Driven' and selling price show a negative correlation\n",
        "- 'owner' and selling price show a negative correlation"
      ]
    },
    {
      "cell_type": "markdown",
      "id": "56d22ef7",
      "metadata": {
        "id": "56d22ef7"
      },
      "source": [
        "### Determine Features and Targt"
      ]
    },
    {
      "cell_type": "code",
      "execution_count": null,
      "id": "b1b806e4",
      "metadata": {
        "id": "b1b806e4"
      },
      "outputs": [],
      "source": [
        "# x and y Determination\n",
        "x = data.loc[:, ['year',  'fuel', 'seller_type', 'transmission', 'owner']]\n",
        "y = data.loc[:, 'selling_price']"
      ]
    },
    {
      "cell_type": "code",
      "execution_count": null,
      "id": "c1cedf15",
      "metadata": {
        "id": "c1cedf15"
      },
      "outputs": [],
      "source": [
        "# train & test split\n",
        "x_train, x_test, y_train, y_test = train_test_split(x, y, test_size=0.2, random_state=0)"
      ]
    },
    {
      "cell_type": "markdown",
      "id": "4a45ef73",
      "metadata": {
        "id": "4a45ef73"
      },
      "source": [
        "## Linear Regression"
      ]
    },
    {
      "cell_type": "code",
      "execution_count": null,
      "id": "ac406585",
      "metadata": {
        "id": "ac406585",
        "outputId": "2a919fa4-fd8d-47fa-9e19-57d8b51291c1"
      },
      "outputs": [
        {
          "name": "stdout",
          "output_type": "stream",
          "text": [
            "Linear Regression\n",
            "MSE:  439224\n",
            "linear Regression model accuracy(in %): 48 %\n",
            "Model intercept:  325089.1580699482\n",
            "Model coefficient:  [-40454.6509014  183370.25005988  98389.56942217 851228.96380904\n",
            " -28109.98161847]\n",
            "                                 OLS Regression Results                                \n",
            "=======================================================================================\n",
            "Dep. Variable:          selling_price   R-squared (uncentered):                   0.665\n",
            "Model:                            OLS   Adj. R-squared (uncentered):              0.665\n",
            "Method:                 Least Squares   F-statistic:                              1377.\n",
            "Date:                Mon, 07 Mar 2022   Prob (F-statistic):                        0.00\n",
            "Time:                        16:45:09   Log-Likelihood:                         -50029.\n",
            "No. Observations:                3472   AIC:                                  1.001e+05\n",
            "Df Residuals:                    3467   BIC:                                  1.001e+05\n",
            "Df Model:                           5                                                  \n",
            "Covariance Type:            nonrobust                                                  \n",
            "================================================================================\n",
            "                   coef    std err          t      P>|t|      [0.025      0.975]\n",
            "--------------------------------------------------------------------------------\n",
            "year         -3.559e+04   1967.676    -18.088      0.000   -3.94e+04   -3.17e+04\n",
            "fuel          2.501e+05    1.1e+04     22.746      0.000    2.29e+05    2.72e+05\n",
            "seller_type   1.896e+05   1.21e+04     15.720      0.000    1.66e+05    2.13e+05\n",
            "transmission  8.515e+05   2.52e+04     33.783      0.000    8.02e+05    9.01e+05\n",
            "owner         1.236e+04   1.13e+04      1.096      0.273   -9747.819    3.45e+04\n",
            "==============================================================================\n",
            "Omnibus:                     3534.611   Durbin-Watson:                   1.916\n",
            "Prob(Omnibus):                  0.000   Jarque-Bera (JB):           436917.180\n",
            "Skew:                           4.702   Prob(JB):                         0.00\n",
            "Kurtosis:                      57.145   Cond. No.                         28.7\n",
            "==============================================================================\n",
            "\n",
            "Notes:\n",
            "[1] R² is computed without centering (uncentered) since the model does not contain a constant.\n",
            "[2] Standard Errors assume that the covariance matrix of the errors is correctly specified.\n"
          ]
        }
      ],
      "source": [
        "print('Linear Regression')\n",
        "linReg = LinearRegression()\n",
        "linReg.fit(x_train, y_train)\n",
        "y_predict = linReg.predict(x_test)\n",
        "\n",
        "# Mean square Error \n",
        "print('MSE: ', int(np.sqrt(mean_squared_error(y_test, y_predict))))\n",
        "\n",
        "# R_score\n",
        "r_score = r2_score(y_test, y_predict) * 100\n",
        "print(\"linear Regression model accuracy(in %):\",int(r_score), '%')\n",
        "\n",
        "# intercept\n",
        "print('Model intercept: ', linReg.intercept_)\n",
        "\n",
        "# coefficient\n",
        "print('Model coefficient: ', linReg.coef_)\n",
        "\n",
        "# Ordainary least squar 'OLS'\n",
        "model = sm.OLS(y_train, x_train).fit()\n",
        "y_predict = model.predict(x_test)\n",
        "print(model.summary())"
      ]
    },
    {
      "cell_type": "markdown",
      "id": "fe09910c",
      "metadata": {
        "id": "fe09910c"
      },
      "source": [
        "## Lasso Regression"
      ]
    },
    {
      "cell_type": "code",
      "execution_count": null,
      "id": "5894fc00",
      "metadata": {
        "id": "5894fc00",
        "outputId": "b4db91af-fda6-4880-a78f-149695d4aac5"
      },
      "outputs": [
        {
          "name": "stdout",
          "output_type": "stream",
          "text": [
            "Lasso Regression\n",
            "MSE 439225.99133095186\n",
            "linear Regression model accuracy(in %): 48 %\n",
            "Model intercept:  325130.0440599773\n",
            "Model coefficient:  [-40456.43084566 183353.46958562  98378.52984275 851178.101557\n",
            " -28098.59960408]\n",
            "                                 OLS Regression Results                                \n",
            "=======================================================================================\n",
            "Dep. Variable:          selling_price   R-squared (uncentered):                   0.665\n",
            "Model:                            OLS   Adj. R-squared (uncentered):              0.665\n",
            "Method:                 Least Squares   F-statistic:                              1377.\n",
            "Date:                Mon, 07 Mar 2022   Prob (F-statistic):                        0.00\n",
            "Time:                        16:48:18   Log-Likelihood:                         -50029.\n",
            "No. Observations:                3472   AIC:                                  1.001e+05\n",
            "Df Residuals:                    3467   BIC:                                  1.001e+05\n",
            "Df Model:                           5                                                  \n",
            "Covariance Type:            nonrobust                                                  \n",
            "================================================================================\n",
            "                   coef    std err          t      P>|t|      [0.025      0.975]\n",
            "--------------------------------------------------------------------------------\n",
            "year         -3.559e+04   1967.676    -18.088      0.000   -3.94e+04   -3.17e+04\n",
            "fuel          2.501e+05    1.1e+04     22.746      0.000    2.29e+05    2.72e+05\n",
            "seller_type   1.896e+05   1.21e+04     15.720      0.000    1.66e+05    2.13e+05\n",
            "transmission  8.515e+05   2.52e+04     33.783      0.000    8.02e+05    9.01e+05\n",
            "owner         1.236e+04   1.13e+04      1.096      0.273   -9747.819    3.45e+04\n",
            "==============================================================================\n",
            "Omnibus:                     3534.611   Durbin-Watson:                   1.916\n",
            "Prob(Omnibus):                  0.000   Jarque-Bera (JB):           436917.180\n",
            "Skew:                           4.702   Prob(JB):                         0.00\n",
            "Kurtosis:                      57.145   Cond. No.                         28.7\n",
            "==============================================================================\n",
            "\n",
            "Notes:\n",
            "[1] R² is computed without centering (uncentered) since the model does not contain a constant.\n",
            "[2] Standard Errors assume that the covariance matrix of the errors is correctly specified.\n"
          ]
        }
      ],
      "source": [
        "# Lasso Regression\n",
        "print('Lasso Regression')\n",
        "lassoReg = Lasso(alpha=5)\n",
        "lassoModel = lassoReg.fit(x_train, y_train)\n",
        "y_lassoPredict = lassoReg.predict(x_test)\n",
        "\n",
        "# Mean square Error \n",
        "print('MSE', np.sqrt(mean_squared_error(y_test, y_lassoPredict)))\n",
        "\n",
        "# R_score\n",
        "r_scoreLasso = r2_score(y_test, y_lassoPredict) * 100\n",
        "print(\"linear Regression model accuracy(in %):\",int(r_scoreLasso), '%')\n",
        "\n",
        "# intercept\n",
        "print('Model intercept: ', lassoReg.intercept_)\n",
        "\n",
        "# coefficient\n",
        "print('Model coefficient: ', lassoReg.coef_)\n",
        "\n",
        "# OlS\n",
        "model = sm.OLS(y_train, x_train).fit()\n",
        "y_predict = model.predict(x_test)\n",
        "print(model.summary())"
      ]
    },
    {
      "cell_type": "markdown",
      "id": "8bd9c65d",
      "metadata": {
        "id": "8bd9c65d"
      },
      "source": [
        "## Ridge Regression"
      ]
    },
    {
      "cell_type": "code",
      "execution_count": null,
      "id": "e52f425c",
      "metadata": {
        "id": "e52f425c",
        "outputId": "42badb7a-3676-4f5b-84c5-b8a2f086b7e5"
      },
      "outputs": [
        {
          "name": "stdout",
          "output_type": "stream",
          "text": [
            "Ridge Regression\n",
            "MSE 439660.8974876434\n",
            "linear Regression model accuracy(in %): 47 %\n",
            "Model intercept:  327222.23327414854\n",
            "Model coefficient:  [-40585.94505095 182540.96143288  99348.12218559 837579.98359871\n",
            " -27952.65735256]\n",
            "                                 OLS Regression Results                                \n",
            "=======================================================================================\n",
            "Dep. Variable:          selling_price   R-squared (uncentered):                   0.665\n",
            "Model:                            OLS   Adj. R-squared (uncentered):              0.665\n",
            "Method:                 Least Squares   F-statistic:                              1377.\n",
            "Date:                Mon, 07 Mar 2022   Prob (F-statistic):                        0.00\n",
            "Time:                        16:44:39   Log-Likelihood:                         -50029.\n",
            "No. Observations:                3472   AIC:                                  1.001e+05\n",
            "Df Residuals:                    3467   BIC:                                  1.001e+05\n",
            "Df Model:                           5                                                  \n",
            "Covariance Type:            nonrobust                                                  \n",
            "================================================================================\n",
            "                   coef    std err          t      P>|t|      [0.025      0.975]\n",
            "--------------------------------------------------------------------------------\n",
            "year         -3.559e+04   1967.676    -18.088      0.000   -3.94e+04   -3.17e+04\n",
            "fuel          2.501e+05    1.1e+04     22.746      0.000    2.29e+05    2.72e+05\n",
            "seller_type   1.896e+05   1.21e+04     15.720      0.000    1.66e+05    2.13e+05\n",
            "transmission  8.515e+05   2.52e+04     33.783      0.000    8.02e+05    9.01e+05\n",
            "owner         1.236e+04   1.13e+04      1.096      0.273   -9747.819    3.45e+04\n",
            "==============================================================================\n",
            "Omnibus:                     3534.611   Durbin-Watson:                   1.916\n",
            "Prob(Omnibus):                  0.000   Jarque-Bera (JB):           436917.180\n",
            "Skew:                           4.702   Prob(JB):                         0.00\n",
            "Kurtosis:                      57.145   Cond. No.                         28.7\n",
            "==============================================================================\n",
            "\n",
            "Notes:\n",
            "[1] R² is computed without centering (uncentered) since the model does not contain a constant.\n",
            "[2] Standard Errors assume that the covariance matrix of the errors is correctly specified.\n"
          ]
        }
      ],
      "source": [
        "print('Ridge Regression')\n",
        "RidgeReg = Ridge(alpha=5)\n",
        "RidgeModel = RidgeReg.fit(x_train, y_train)\n",
        "y_RidgePredict = RidgeReg.predict(x_test)\n",
        "print('MSE', np.sqrt(mean_squared_error(y_test, y_RidgePredict)))\n",
        "r_scoreRidge = r2_score(y_test, y_RidgePredict) * 100\n",
        "print(\"linear Regression model accuracy(in %):\",\n",
        "      int(r_scoreRidge), '%')\n",
        "print('Model intercept: ', RidgeReg.intercept_)\n",
        "print('Model coefficient: ', RidgeReg.coef_)\n",
        "model = sm.OLS(y_train, x_train).fit()\n",
        "y_predict = model.predict(x_test)\n",
        "print(model.summary())"
      ]
    },
    {
      "cell_type": "markdown",
      "id": "4989f827",
      "metadata": {
        "id": "4989f827"
      },
      "source": [
        "## Decision Tree "
      ]
    },
    {
      "cell_type": "code",
      "execution_count": null,
      "id": "092dfa4e",
      "metadata": {
        "id": "092dfa4e",
        "outputId": "1f759ad1-953d-40f9-dbcf-3d35cbdb502a"
      },
      "outputs": [
        {
          "name": "stdout",
          "output_type": "stream",
          "text": [
            "Tree Decision\n",
            "MSE:  124826166060\n",
            "Tree Decision model accuracy (in %):  66 %\n"
          ]
        },
        {
          "data": {
            "image/png": "[encoded data removed]",
            "text/plain": [
              "<Figure size 432x288 with 1 Axes>"
            ]
          },
          "metadata": {
            "needs_background": "light"
          },
          "output_type": "display_data"
        }
      ],
      "source": [
        "print('Tree Decision')\n",
        "decisionTree = DecisionTreeRegressor(max_depth=5,\n",
        "                                     random_state=0,\n",
        "                                     splitter='best')\n",
        "model = decisionTree.fit(x_train, y_train)\n",
        "y_predict = decisionTree.predict(x_test)\n",
        "print('MSE: ', int(mean_squared_error(y_test, y_predict)))\n",
        "r_score_tree = r2_score(y_test, y_predict)\n",
        "print('Tree Decision model accuracy (in %): ', int(r_score_tree * 100), '%')\n",
        "tree.plot_tree(model)\n",
        "plt.show()"
      ]
    }
  ],
  "metadata": {
    "kernelspec": {
      "display_name": "Python 3 (ipykernel)",
      "language": "python",
      "name": "python3"
    },
    "language_info": {
      "codemirror_mode": {
        "name": "ipython",
        "version": 3
      },
      "file_extension": ".py",
      "mimetype": "text/x-python",
      "name": "python",
      "nbconvert_exporter": "python",
      "pygments_lexer": "ipython3",
      "version": "3.9.7"
    },
    "colab": {
      "provenance": [],
      "include_colab_link": true
    }
  },
  "nbformat": 4,
  "nbformat_minor": 5
}