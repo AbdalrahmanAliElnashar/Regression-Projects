{
  "cells": [
    {
      "cell_type": "markdown",
      "metadata": {
        "id": "view-in-github",
        "colab_type": "text"
      },
      "source": [
        "<a href=\"https://colab.research.google.com/github/AbdalrahmanAliElnashar/Regression-Projects/blob/main/03-Cricket_Player_Sold_Price_Prediction.ipynb\" target=\"_parent\"><img src=\"https://colab.research.google.com/assets/colab-badge.svg\" alt=\"Open In Colab\"/></a>"
      ]
    },
    {
      "cell_type": "markdown",
      "id": "6cb824c2",
      "metadata": {
        "id": "6cb824c2"
      },
      "source": [
        "# Cricket Player Sold Price Prediction"
      ]
    },
    {
      "cell_type": "code",
      "execution_count": null,
      "id": "c534bc8f",
      "metadata": {
        "id": "c534bc8f"
      },
      "outputs": [],
      "source": [
        "import numpy as np\n",
        "import pandas as pd\n",
        "import matplotlib.pyplot as plt\n",
        "import seaborn as sns\n",
        "from sklearn.model_selection import train_test_split\n",
        "from sklearn.linear_model import LinearRegression\n",
        "from sklearn.linear_model import LogisticRegression\n",
        "from sklearn.metrics import r2_score, confusion_matrix, mean_squared_error\n",
        "from sklearn.preprocessing import StandardScaler\n",
        "import statsmodels.api as sm\n",
        "from statsmodels.stats.outliers_influence import variance_inflation_factor\n",
        "from sklearn.linear_model import Ridge\n",
        "from sklearn.linear_model import Lasso\n",
        "from sklearn.tree import DecisionTreeRegressor\n",
        "from sklearn import tree"
      ]
    },
    {
      "cell_type": "code",
      "execution_count": null,
      "id": "ff453c5e",
      "metadata": {
        "id": "ff453c5e"
      },
      "outputs": [],
      "source": [
        "# load data\n",
        "data = pd.read_csv('IPL IMB381IPL2013.csv')"
      ]
    },
    {
      "cell_type": "code",
      "execution_count": null,
      "id": "805ad773",
      "metadata": {
        "id": "805ad773",
        "outputId": "3a8f1bea-e4fd-423b-9a43-8a1b24755137"
      },
      "outputs": [
        {
          "name": "stdout",
          "output_type": "stream",
          "text": [
            "Number of Rows:  130\n",
            "Number of Columns:  26 \n",
            "\n",
            "SubSet of Data:\n",
            "     Sl.NO.   PLAYER NAME  AGE COUNTRY  TEAM PLAYING ROLE  T-RUNS  T-WKTS  ODI-RUNS-S  ODI-SR-B  ODI-WKTS  ODI-SR-BL  CAPTAINCY EXP  RUNS-S  HS    AVE    SR-B  SIXERS  RUNS-C  WKTS  AVE-BL   ECON  SR-BL  AUCTION YEAR  BASE PRICE  SOLD PRICE\n",
            "0       1   Abdulla, YA    2      SA  KXIP   Allrounder       0       0           0      0.00         0        0.0              0       0   0   0.00    0.00       0     307    15   20.47   8.90  13.93          2009       50000       50000\n",
            "1       2  Abdur Razzak    2     BAN   RCB       Bowler     214      18         657     71.41       185       37.6              0       0   0   0.00    0.00       0      29     0    0.00  14.50   0.00          2008       50000       50000\n",
            "2       3   Agarkar, AB    2     IND   KKR       Bowler     571      58        1269     80.62       288       32.9              0     167  39  18.56  121.01       5    1059    29   36.52   8.81  24.90          2008      200000      350000\n",
            "3       4     Ashwin, R    1     IND   CSK       Bowler     284      31         241     84.56        51       36.8              0      58  11   5.80   76.32       0    1125    49   22.96   6.23  22.14          2011      100000      850000\n",
            "4       5  Badrinath, S    2     IND   CSK      Batsman      63       0          79     45.93         0        0.0              0    1317  71  32.93  120.71      28       0     0    0.00   0.00   0.00          2011      100000      800000 \n",
            "\n",
            "Data Information:\n",
            " \n",
            "<class 'pandas.core.frame.DataFrame'>\n",
            "RangeIndex: 130 entries, 0 to 129\n",
            "Data columns (total 26 columns):\n",
            " #   Column         Non-Null Count  Dtype  \n",
            "---  ------         --------------  -----  \n",
            " 0   Sl.NO.         130 non-null    int64  \n",
            " 1   PLAYER NAME    130 non-null    object \n",
            " 2   AGE            130 non-null    int64  \n",
            " 3   COUNTRY        130 non-null    object \n",
            " 4   TEAM           130 non-null    object \n",
            " 5   PLAYING ROLE   130 non-null    object \n",
            " 6   T-RUNS         130 non-null    int64  \n",
            " 7   T-WKTS         130 non-null    int64  \n",
            " 8   ODI-RUNS-S     130 non-null    int64  \n",
            " 9   ODI-SR-B       130 non-null    float64\n",
            " 10  ODI-WKTS       130 non-null    int64  \n",
            " 11  ODI-SR-BL      130 non-null    float64\n",
            " 12  CAPTAINCY EXP  130 non-null    int64  \n",
            " 13  RUNS-S         130 non-null    int64  \n",
            " 14  HS             130 non-null    int64  \n",
            " 15  AVE            130 non-null    float64\n",
            " 16  SR-B           130 non-null    float64\n",
            " 17  SIXERS         130 non-null    int64  \n",
            " 18  RUNS-C         130 non-null    int64  \n",
            " 19  WKTS           130 non-null    int64  \n",
            " 20  AVE-BL         130 non-null    float64\n",
            " 21  ECON           130 non-null    float64\n",
            " 22  SR-BL          130 non-null    float64\n",
            " 23  AUCTION YEAR   130 non-null    int64  \n",
            " 24  BASE PRICE     130 non-null    int64  \n",
            " 25  SOLD PRICE     130 non-null    int64  \n",
            "dtypes: float64(7), int64(15), object(4)\n",
            "memory usage: 26.5+ KB\n",
            "None \n",
            "\n",
            "Data Describe:\n",
            "             Sl.NO.         AGE        T-RUNS      T-WKTS    ODI-RUNS-S  \\\n",
            "count  130.000000  130.000000    130.000000  130.000000    130.000000   \n",
            "mean    65.500000    2.092308   2166.715385   66.530769   2508.738462   \n",
            "std     37.671829    0.576627   3305.646757  142.676855   3582.205625   \n",
            "min      1.000000    1.000000      0.000000    0.000000      0.000000   \n",
            "25%     33.250000    2.000000     25.500000    0.000000     73.250000   \n",
            "50%     65.500000    2.000000    542.500000    7.000000    835.000000   \n",
            "75%     97.750000    2.000000   3002.250000   47.500000   3523.500000   \n",
            "max    130.000000    3.000000  15470.000000  800.000000  18426.000000   \n",
            "\n",
            "         ODI-SR-B    ODI-WKTS   ODI-SR-BL  CAPTAINCY EXP       RUNS-S  ...  \\\n",
            "count  130.000000  130.000000  130.000000     130.000000   130.000000  ...   \n",
            "mean    71.164385   76.076923   34.033846       0.315385   514.246154  ...   \n",
            "std     25.898440  111.205070   26.751749       0.466466   615.226335  ...   \n",
            "min      0.000000    0.000000    0.000000       0.000000     0.000000  ...   \n",
            "25%     65.650000    0.000000    0.000000       0.000000    39.000000  ...   \n",
            "50%     78.225000   18.500000   36.600000       0.000000   172.000000  ...   \n",
            "75%     86.790000  106.000000   45.325000       1.000000   925.250000  ...   \n",
            "max    116.660000  534.000000  150.000000       1.000000  2254.000000  ...   \n",
            "\n",
            "             SR-B      SIXERS       RUNS-C        WKTS      AVE-BL  \\\n",
            "count  130.000000  130.000000   130.000000  130.000000  130.000000   \n",
            "mean   111.053462   17.692308   475.523077   17.169231   23.110231   \n",
            "std     35.928907   23.828146   558.314049   21.816763   20.802057   \n",
            "min      0.000000    0.000000     0.000000    0.000000    0.000000   \n",
            "25%     98.237500    1.000000     0.000000    0.000000    0.000000   \n",
            "50%    118.510000    6.000000   297.000000    8.500000   24.785000   \n",
            "75%    129.102500   29.750000   689.250000   23.750000   35.580000   \n",
            "max    235.490000  129.000000  1975.000000   83.000000  126.300000   \n",
            "\n",
            "             ECON       SR-BL  AUCTION YEAR    BASE PRICE    SOLD PRICE  \n",
            "count  130.000000  130.000000    130.000000  1.300000e+02  1.300000e+02  \n",
            "mean     6.204462   17.382615   2009.092308  1.922308e+05  5.212231e+05  \n",
            "std      4.941531   15.273422      1.377821  1.530973e+05  4.068074e+05  \n",
            "min      0.000000    0.000000   2008.000000  2.000000e+04  2.000000e+04  \n",
            "25%      0.000000    0.000000   2008.000000  1.000000e+05  2.250000e+05  \n",
            "50%      7.380000   19.935000   2008.000000  2.000000e+05  4.375000e+05  \n",
            "75%      8.247500   26.212500   2011.000000  2.250000e+05  7.000000e+05  \n",
            "max     38.110000  100.200000   2011.000000  1.350000e+06  1.800000e+06  \n",
            "\n",
            "[8 rows x 22 columns] \n",
            "\n",
            "Columns Names: Index(['Sl.NO.', 'PLAYER NAME', 'AGE', 'COUNTRY', 'TEAM', 'PLAYING ROLE',\n",
            "       'T-RUNS', 'T-WKTS', 'ODI-RUNS-S', 'ODI-SR-B', 'ODI-WKTS', 'ODI-SR-BL',\n",
            "       'CAPTAINCY EXP', 'RUNS-S', 'HS', 'AVE', 'SR-B', 'SIXERS', 'RUNS-C',\n",
            "       'WKTS', 'AVE-BL', 'ECON', 'SR-BL', 'AUCTION YEAR', 'BASE PRICE',\n",
            "       'SOLD PRICE'],\n",
            "      dtype='object') \n",
            "\n"
          ]
        }
      ],
      "source": [
        "# Data Exploration\n",
        "print('Number of Rows: ', data.shape[0])\n",
        "print('Number of Columns: ', data.shape[1], '\\n')\n",
        "print('SubSet of Data:\\n ', data.head().to_string(), '\\n')\n",
        "print('Data Information:\\n '); print(data.info(), '\\n')\n",
        "print('Data Describe:\\n ', data.describe(), '\\n')\n",
        "print('Columns Names:', data.columns, '\\n')"
      ]
    },
    {
      "cell_type": "markdown",
      "id": "4d434c2d",
      "metadata": {
        "id": "4d434c2d"
      },
      "source": [
        "### Feature Notes"
      ]
    },
    {
      "cell_type": "code",
      "execution_count": null,
      "id": "33cbf87f",
      "metadata": {
        "id": "33cbf87f",
        "outputId": "743aeecf-5580-46cd-dc65-57f661b61db0"
      },
      "outputs": [
        {
          "name": "stdout",
          "output_type": "stream",
          "text": [
            "The number of AGE which equal 1:  16\n",
            "The number of AGE which equal 2:  86\n",
            "The number of AGE which equal 3:  28\n",
            "Batsman Number:  39\n",
            "Bowler Number :  44\n",
            "Allrounder Number:  35\n",
            "W. Keeper Number:  12\n"
          ]
        }
      ],
      "source": [
        "# Notes\n",
        "''''\n",
        "TEAM': there is teamName and teamName+\n",
        "'AGE': Divided to 3 classes \n",
        "'PLAYING ROLe': Divided to 4 positions\n",
        "'''\n",
        "\n",
        "# AGE\n",
        "print(\"The number of AGE which equal 1: \", data[data['AGE'] == 1].shape[0])\n",
        "print(\"The number of AGE which equal 2: \", data[data['AGE'] == 2].shape[0])\n",
        "print(\"The number of AGE which equal 3: \", data[data['AGE'] == 3].shape[0])\n",
        "\n",
        "# PLAYING ROLE\n",
        "print(\"Batsman Number: \", data[data['PLAYING ROLE'] == 'Batsman'].shape[0])\n",
        "print(\"Bowler Number : \", data[data['PLAYING ROLE'] == 'Bowler'].shape[0])\n",
        "print(\"Allrounder Number: \", data[data['PLAYING ROLE'] == 'Allrounder'].shape[0])\n",
        "print(\"W. Keeper Number: \", data[data['PLAYING ROLE'] == 'W. Keeper'].shape[0])"
      ]
    },
    {
      "cell_type": "code",
      "execution_count": null,
      "id": "cd3fe49a",
      "metadata": {
        "id": "cd3fe49a",
        "outputId": "c410f45e-013b-4e8c-cd3e-d6aba55a420b"
      },
      "outputs": [
        {
          "name": "stdout",
          "output_type": "stream",
          "text": [
            "   AGE  PLAYING ROLE  T-RUNS  T-WKTS  ODI-RUNS-S  ODI-SR-B  ODI-WKTS  ODI-SR-BL  CAPTAINCY EXP  RUNS-S  HS    AVE    SR-B  SIXERS  RUNS-C  WKTS  AVE-BL   ECON  SR-BL  AUCTION YEAR  BASE PRICE  SOLD PRICE\n",
            "0    2             1       0       0           0      0.00         0        0.0              0       0   0   0.00    0.00       0     307    15   20.47   8.90  13.93          2009       50000       50000\n",
            "1    2             2     214      18         657     71.41       185       37.6              0       0   0   0.00    0.00       0      29     0    0.00  14.50   0.00          2008       50000       50000\n",
            "2    2             2     571      58        1269     80.62       288       32.9              0     167  39  18.56  121.01       5    1059    29   36.52   8.81  24.90          2008      200000      350000\n",
            "3    1             2     284      31         241     84.56        51       36.8              0      58  11   5.80   76.32       0    1125    49   22.96   6.23  22.14          2011      100000      850000\n",
            "4    2             3      63       0          79     45.93         0        0.0              0    1317  71  32.93  120.71      28       0     0    0.00   0.00   0.00          2011      100000      800000\n",
            "(130, 22)\n",
            "AGE                int64\n",
            "PLAYING ROLE       int64\n",
            "T-RUNS             int64\n",
            "T-WKTS             int64\n",
            "ODI-RUNS-S         int64\n",
            "ODI-SR-B         float64\n",
            "ODI-WKTS           int64\n",
            "ODI-SR-BL        float64\n",
            "CAPTAINCY EXP      int64\n",
            "RUNS-S             int64\n",
            "HS                 int64\n",
            "AVE              float64\n",
            "SR-B             float64\n",
            "SIXERS             int64\n",
            "RUNS-C             int64\n",
            "WKTS               int64\n",
            "AVE-BL           float64\n",
            "ECON             float64\n",
            "SR-BL            float64\n",
            "AUCTION YEAR       int64\n",
            "BASE PRICE         int64\n",
            "SOLD PRICE         int64\n",
            "dtype: object\n"
          ]
        }
      ],
      "source": [
        "# Convert Categorical Data\n",
        "data['PLAYING ROLE'].replace(['Allrounder', 'Bowler', 'Batsman', 'W. Keeper'],[1, 2, 3, 4], inplace=True)\n",
        "\n",
        "# Drop by logic\n",
        "data.drop(['Sl.NO.', 'PLAYER NAME', 'COUNTRY', 'TEAM'], axis=1, inplace=True)\n",
        "print(data.head().to_string())\n",
        "print(data.shape)        # (130, 23)\n",
        "print(data.dtypes)"
      ]
    },
    {
      "cell_type": "markdown",
      "id": "26022e7a",
      "metadata": {
        "id": "26022e7a"
      },
      "source": [
        "###  Multi-Col-linearity 'VIF'\n"
      ]
    },
    {
      "cell_type": "code",
      "execution_count": null,
      "id": "4321a660",
      "metadata": {
        "id": "4321a660",
        "outputId": "75b5aef0-106a-40e1-d054-ace60ad96952"
      },
      "outputs": [
        {
          "name": "stdout",
          "output_type": "stream",
          "text": [
            "VIF:\n",
            " \n",
            "         Features        VIF\n",
            "0             AGE  25.260992\n",
            "1    PLAYING ROLE  15.142700\n",
            "2          T-RUNS  11.525583\n",
            "3          T-WKTS   6.710451\n",
            "4      ODI-RUNS-S  14.939517\n",
            "5        ODI-SR-B  13.493014\n",
            "6        ODI-WKTS   8.376533\n",
            "7       ODI-SR-BL   4.020240\n",
            "8   CAPTAINCY EXP   3.759920\n",
            "9          RUNS-S  12.852138\n",
            "10             HS  19.233794\n",
            "11            AVE  24.665436\n",
            "12           SR-B  20.289272\n",
            "13         SIXERS   8.333520\n",
            "14         RUNS-C  32.823680\n",
            "15           WKTS  30.534512\n",
            "16         AVE-BL  89.732105\n",
            "17           ECON   6.446951\n",
            "18          SR-BL  92.576268\n",
            "19   AUCTION YEAR  66.157241\n",
            "20     BASE PRICE   4.479072 \n",
            "\n",
            "         Features       VIF\n",
            "3          T-WKTS  6.710451\n",
            "6        ODI-WKTS  8.376533\n",
            "7       ODI-SR-BL  4.020240\n",
            "8   CAPTAINCY EXP  3.759920\n",
            "13         SIXERS  8.333520\n",
            "17           ECON  6.446951\n",
            "20     BASE PRICE  4.479072\n",
            "Number of Predictors:  7\n",
            "Data Shape After drop high VIF:  (130, 8)\n",
            "New VIF:\n",
            "          Features       VIF\n",
            "0         T-WKTS  3.980098\n",
            "1       ODI-WKTS  4.870946\n",
            "2      ODI-SR-BL  2.762488\n",
            "3  CAPTAINCY EXP  2.086941\n",
            "4         SIXERS  1.642153\n",
            "5           ECON  2.748837\n",
            "6     BASE PRICE  3.014788 \n",
            "\n"
          ]
        }
      ],
      "source": [
        "# Store correlation ascending before Using VIF\n",
        "corr = data.corr()['SOLD PRICE'].sort_values(ascending=False)\n",
        "\n",
        "print('VIF:\\n ')\n",
        "features = data.iloc[:, :-1]\n",
        "vif_data = pd.DataFrame()\n",
        "vif_data['Features'] = features.columns\n",
        "vif_data['VIF'] = [variance_inflation_factor(features.values, i)\n",
        "                   for i in range(features.shape[1])]\n",
        "print(vif_data, '\\n')\n",
        "\n",
        "# Feature With high and low VIF\n",
        "features_with_high_VIF = vif_data[vif_data['VIF'] > 10]\n",
        "features_with_low_VIF = vif_data[vif_data['VIF'] < 10]\n",
        "print(features_with_low_VIF[['Features', 'VIF']])\n",
        "print('Number of Predictors: ', features_with_low_VIF['Features'].count())\n",
        "\n",
        "# Drop high VIF Features\n",
        "data.drop(features_with_high_VIF['Features'], axis=1, inplace=True)\n",
        "print('Data Shape After drop high VIF: ', data.shape)\n",
        "\n",
        "# Check VIF again\n",
        "features = data.iloc[:, :-1]\n",
        "vif_data = pd.DataFrame()\n",
        "vif_data['Features'] = features.columns\n",
        "vif_data['VIF'] = [variance_inflation_factor(features.values, i)\n",
        "                   for i in range(features.shape[1])]\n",
        "print('New VIF:\\n ', vif_data, '\\n')"
      ]
    },
    {
      "cell_type": "markdown",
      "id": "0ee6e504",
      "metadata": {
        "id": "0ee6e504"
      },
      "source": [
        "### Correlation"
      ]
    },
    {
      "cell_type": "code",
      "execution_count": null,
      "id": "fe46e6a4",
      "metadata": {
        "id": "fe46e6a4",
        "outputId": "8492e7bb-ada5-48fa-a311-c18ac1903686"
      },
      "outputs": [
        {
          "name": "stdout",
          "output_type": "stream",
          "text": [
            "Correlation before check Multi-Col-linearity (VIF): \n",
            "SOLD PRICE       1.000000\n",
            "BASE PRICE       0.523510\n",
            "RUNS-S           0.478510\n",
            "SIXERS           0.450609\n",
            "AVE              0.396519\n",
            "HS               0.347473\n",
            "ODI-RUNS-S       0.337834\n",
            "CAPTAINCY EXP    0.318835\n",
            "ODI-SR-B         0.226880\n",
            "T-RUNS           0.216752\n",
            "SR-B             0.184278\n",
            "AVE-BL           0.128406\n",
            "SR-BL            0.118296\n",
            "AUCTION YEAR     0.117700\n",
            "RUNS-C           0.116476\n",
            "ODI-WKTS         0.112327\n",
            "PLAYING ROLE     0.083621\n",
            "ODI-SR-BL        0.075408\n",
            "WKTS             0.053796\n",
            "ECON             0.040679\n",
            "T-WKTS           0.035767\n",
            "AGE             -0.106201\n",
            "Name: SOLD PRICE, dtype: float64\n",
            "Correlation after check Multi-Col-linearity (VIF) and drop high VIF: \n",
            "SOLD PRICE       1.000000\n",
            "BASE PRICE       0.523510\n",
            "SIXERS           0.450609\n",
            "CAPTAINCY EXP    0.318835\n",
            "ODI-WKTS         0.112327\n",
            "ODI-SR-BL        0.075408\n",
            "ECON             0.040679\n",
            "T-WKTS           0.035767\n",
            "Name: SOLD PRICE, dtype: float64\n"
          ]
        },
        {
          "data": {
            "image/png": "[encoded data removed]",
            "text/plain": [
              "<Figure size 432x288 with 2 Axes>"
            ]
          },
          "metadata": {
            "needs_background": "light"
          },
          "output_type": "display_data"
        }
      ],
      "source": [
        "print('Correlation before check Multi-Col-linearity (VIF): ')\n",
        "print(corr)\n",
        "print('Correlation after check Multi-Col-linearity (VIF) and drop high VIF: ')\n",
        "print(data.corr()['SOLD PRICE'].sort_values(ascending=False))\n",
        "sns.heatmap(data.corr(), annot=True, cmap=\"RdBu\")\n",
        "plt.show()"
      ]
    },
    {
      "cell_type": "markdown",
      "id": "47678156",
      "metadata": {
        "id": "47678156"
      },
      "source": [
        "- 'T-WKTS' and 'ODI-WKTS' are highly correlated so i will drop 'T-WKTS'\n",
        "- 'Econ' seems to low correlated with 'Sold price'"
      ]
    },
    {
      "cell_type": "code",
      "execution_count": null,
      "id": "7f26b7a0",
      "metadata": {
        "id": "7f26b7a0",
        "outputId": "868f3b07-4704-42bf-b265-9ae36f86469b"
      },
      "outputs": [
        {
          "name": "stdout",
          "output_type": "stream",
          "text": [
            "(130, 3)\n"
          ]
        },
        {
          "data": {
            "image/png": "[encoded data removed]",
            "text/plain": [
              "<Figure size 432x288 with 2 Axes>"
            ]
          },
          "metadata": {
            "needs_background": "light"
          },
          "output_type": "display_data"
        }
      ],
      "source": [
        "data.drop(['T-WKTS', 'ECON', 'ODI-SR-BL', 'ODI-WKTS', 'CAPTAINCY EXP'], axis=1, inplace=True)\n",
        "print(data.shape)\n",
        "sns.heatmap(data.corr(), annot=True, cmap=\"RdBu\")\n",
        "plt.show()\n"
      ]
    },
    {
      "cell_type": "code",
      "execution_count": null,
      "id": "b6648098",
      "metadata": {
        "id": "b6648098"
      },
      "outputs": [],
      "source": [
        "# Building Model\n",
        "x = data.iloc[:, :-1]\n",
        "y = data.iloc[:, -1]\n",
        "# train & test Split\n",
        "x_train, x_test, y_train, y_test = train_test_split(x, y, test_size=0.3, random_state=0)"
      ]
    },
    {
      "cell_type": "markdown",
      "id": "8ed2a392",
      "metadata": {
        "id": "8ed2a392"
      },
      "source": [
        "## Linear Regression"
      ]
    },
    {
      "cell_type": "code",
      "execution_count": null,
      "id": "f0a579d8",
      "metadata": {
        "id": "f0a579d8",
        "outputId": "f2376c90-f608-4a46-ac6f-a773289b083e"
      },
      "outputs": [
        {
          "name": "stdout",
          "output_type": "stream",
          "text": [
            "MSE: 335904\n",
            "linear Regression model accuracy(in %): 36 %\n",
            "Model intercept:  164100.50419229694\n",
            "Model coefficient:  [6.34690939e+03 1.17097434e+00]\n",
            "***********************************************************\n",
            "                                 OLS Regression Results                                \n",
            "=======================================================================================\n",
            "Dep. Variable:             SOLD PRICE   R-squared (uncentered):                   0.750\n",
            "Model:                            OLS   Adj. R-squared (uncentered):              0.744\n",
            "Method:                 Least Squares   F-statistic:                              133.4\n",
            "Date:                Mon, 07 Mar 2022   Prob (F-statistic):                    1.66e-27\n",
            "Time:                        17:13:15   Log-Likelihood:                         -1281.8\n",
            "No. Observations:                  91   AIC:                                      2568.\n",
            "Df Residuals:                      89   BIC:                                      2573.\n",
            "Df Model:                           2                                                  \n",
            "Covariance Type:            nonrobust                                                  \n",
            "==============================================================================\n",
            "                 coef    std err          t      P>|t|      [0.025      0.975]\n",
            "------------------------------------------------------------------------------\n",
            "SIXERS      8287.4362   1467.592      5.647      0.000    5371.363    1.12e+04\n",
            "BASE PRICE     1.5362      0.153     10.027      0.000       1.232       1.841\n",
            "==============================================================================\n",
            "Omnibus:                       16.415   Durbin-Watson:                   1.856\n",
            "Prob(Omnibus):                  0.000   Jarque-Bera (JB):               21.814\n",
            "Skew:                           0.851   Prob(JB):                     1.83e-05\n",
            "Kurtosis:                       4.691   Cond. No.                     1.13e+04\n",
            "==============================================================================\n",
            "\n",
            "Notes:\n",
            "[1] R² is computed without centering (uncentered) since the model does not contain a constant.\n",
            "[2] Standard Errors assume that the covariance matrix of the errors is correctly specified.\n",
            "[3] The condition number is large, 1.13e+04. This might indicate that there are\n",
            "strong multicollinearity or other numerical problems.\n"
          ]
        }
      ],
      "source": [
        "linReg = LinearRegression()\n",
        "linReg.fit(x_train, y_train)\n",
        "y_predict = linReg.predict(x_test)\n",
        "print('MSE:', int(np.sqrt(mean_squared_error(y_test, y_predict))))\n",
        "r_score = r2_score(y_test, y_predict) * 100\n",
        "print(\"linear Regression model accuracy(in %):\", int(r_score), '%')\n",
        "print('Model intercept: ', linReg.intercept_)\n",
        "print('Model coefficient: ', linReg.coef_)\n",
        "print('***********************************************************')\n",
        "# OLS\n",
        "model = sm.OLS(y_train, x_train).fit()\n",
        "y_predict = model.predict(x_test)\n",
        "print(model.summary())\n"
      ]
    },
    {
      "cell_type": "code",
      "execution_count": null,
      "id": "c91c0950",
      "metadata": {
        "id": "c91c0950"
      },
      "outputs": [],
      "source": []
    }
  ],
  "metadata": {
    "kernelspec": {
      "display_name": "Python 3 (ipykernel)",
      "language": "python",
      "name": "python3"
    },
    "language_info": {
      "codemirror_mode": {
        "name": "ipython",
        "version": 3
      },
      "file_extension": ".py",
      "mimetype": "text/x-python",
      "name": "python",
      "nbconvert_exporter": "python",
      "pygments_lexer": "ipython3",
      "version": "3.9.7"
    },
    "colab": {
      "provenance": [],
      "toc_visible": true,
      "include_colab_link": true
    }
  },
  "nbformat": 4,
  "nbformat_minor": 5
}